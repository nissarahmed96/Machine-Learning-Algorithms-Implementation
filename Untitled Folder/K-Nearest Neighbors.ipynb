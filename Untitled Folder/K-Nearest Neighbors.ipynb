{
 "cells": [
  {
   "cell_type": "markdown",
   "metadata": {},
   "source": [
    "<center><h1> KNN</h1></center>"
   ]
  },
  {
   "cell_type": "markdown",
   "metadata": {},
   "source": [
    "### Introduction: "
   ]
  },
  {
   "cell_type": "markdown",
   "metadata": {},
   "source": [
    "<p>In this section, lets go through the brief description and implementation of K-Nearest Neighbors algorithm from a perspective of Classification problem as well as Regression problem point of view.</p>\n",
    "<br>\n",
    "<h3>KNN-Classification</h3>\n",
    "<p> ** Brief Description **</p>\n"
   ]
  },
  {
   "cell_type": "markdown",
   "metadata": {},
   "source": [
    "<h5>Euclidean Distance :</h5>\n",
    "\n",
    "** Brief Description about Euclidean Distance"
   ]
  },
  {
   "cell_type": "code",
   "execution_count": 3,
   "metadata": {},
   "outputs": [],
   "source": [
    "from math import sqrt\n",
    "def euclideanDistance(datapoint1,datapoint2): # This function takes two instances of data points from the given data set. \n",
    "    distance = 0.0\n",
    "    for dimension in range(len(datapoint1)): #Based on the formula, it computes by considering the dimension. \n",
    "        distance += (datapoint1[dimension] - datapoint2[dimension])**2\n",
    "    return sqrt(distance)    "
   ]
  },
  {
   "cell_type": "code",
   "execution_count": null,
   "metadata": {},
   "outputs": [],
   "source": []
  }
 ],
 "metadata": {
  "kernelspec": {
   "display_name": "Python 3",
   "language": "python",
   "name": "python3"
  },
  "language_info": {
   "codemirror_mode": {
    "name": "ipython",
    "version": 3
   },
   "file_extension": ".py",
   "mimetype": "text/x-python",
   "name": "python",
   "nbconvert_exporter": "python",
   "pygments_lexer": "ipython3",
   "version": "3.8.5"
  }
 },
 "nbformat": 4,
 "nbformat_minor": 4
}
